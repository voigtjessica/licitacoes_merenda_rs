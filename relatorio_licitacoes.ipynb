{
 "cells": [
  {
   "cell_type": "code",
   "execution_count": 2,
   "metadata": {},
   "outputs": [],
   "source": [
    "#O que eu preciso saber nesse relatório:\n",
    "# 1. Quantas vezes empresas ganharam licitações de merenda em quais municípios?\n",
    "#    LICITAÇÂO >> LOTES >> CONCORRENTES\n",
    "\n",
    "# 2. Qual é a idade da empresa que ganhou as licitações (ver se é uma que foi criada pra isso)\n",
    "# 3. Cruzar empresas vencedoras com a RAIS\n",
    "# 4. Olhar se essas licitações possuem aditivos de licitação (sinal de abuso)\n",
    "# 5. Ver tudo isso por municpipio, de forma que possamos buscar por um município\n",
    "# 6. Ver se consigo dizer quanto custou cada produto"
   ]
  },
  {
   "cell_type": "code",
   "execution_count": 78,
   "metadata": {},
   "outputs": [
    {
     "name": "stdout",
     "output_type": "stream",
     "text": [
      "<class 'pandas.core.frame.DataFrame'>\n",
      "Int64Index: 953 entries, 4036 to 34966\n",
      "Data columns (total 15 columns):\n",
      "CNPJ_ORGAO_GERENCIADOR      953 non-null object\n",
      "NM_ORGAO_GERENCIADOR        10 non-null object\n",
      "NR_LICITACAO                953 non-null object\n",
      "ANO_LICITACAO               953 non-null object\n",
      "CD_TIPO_MODALIDADE          953 non-null object\n",
      "CD_ORGAO                    953 non-null int64\n",
      "NM_ORGAO                    953 non-null object\n",
      "TP_CARACTERISTICA_OBJETO    953 non-null object\n",
      "TP_NATUREZA                 953 non-null object\n",
      "DS_OBJETO                   953 non-null object\n",
      "VL_LICITACAO                953 non-null float64\n",
      "VL_HOMOLOGADO               118 non-null object\n",
      "PC_TX_ESTIMADA              0 non-null float64\n",
      "PC_TX_HOMOLOGADA            0 non-null float64\n",
      "CD_TIPO_FASE_ATUAL          953 non-null object\n",
      "dtypes: float64(3), int64(1), object(11)\n",
      "memory usage: 119.1+ KB\n"
     ]
    }
   ],
   "source": [
    "#1.a Licitações\n",
    "import pandas as pd\n",
    "pd.set_option('expand_frame_repr', False)\n",
    "pd.set_option('display.max_columns', 0) # Display any number of columns\n",
    "pd.set_option('display.max_rows', 0) # Display any number of rows\n",
    "\n",
    "#os.chdir(\"C:\\Users\\coliv\\licitacoes_merenda_rs\\dbs\\2017_licitacoes\") \n",
    "# outro jeito de setwd()\n",
    "lic_2017 = pd.read_csv(r'C:\\Users\\coliv\\licitacoes_merenda_rs\\dbs\\2017_licitacoes\\licitacao.csv', delimiter =',', encoding='utf8')\n",
    "lic_2018 = pd.read_csv(r'C:\\Users\\coliv\\licitacoes_merenda_rs\\dbs\\2018_licitacoes\\licitacao.csv', delimiter =',', encoding='utf8')\n",
    "lic_2019 = pd.read_csv(r'C:\\Users\\coliv\\licitacoes_merenda_rs\\dbs\\2019_licitacoes\\licitacao.csv', delimiter =',', encoding='utf8')\n",
    "\n",
    "# lic_2017.info() 62440\n",
    "\n",
    "#modalidade igual a merenda (\"CPP\")\n",
    "lic_2017 = lic_2017[lic_2017['CD_TIPO_MODALIDADE'] == 'CPP']\n",
    "lic_2018 = lic_2018[lic_2018['CD_TIPO_MODALIDADE'] == 'CPP']\n",
    "lic_2019 = lic_2019[lic_2019['CD_TIPO_MODALIDADE'] == 'CPP']\n",
    "\n",
    "# juntando tudo em um arquivo só\n",
    "lic_merenda_rs = pd.concat([lic_2017, lic_2018, lic_2019])\n",
    "\n",
    "# Só as licitações que já foram concluídas:\n",
    "lic_merenda_rs = lic_merenda_rs[lic_merenda_rs['CD_TIPO_FASE_ATUAL'] == 'ADH']\n",
    "\n",
    "#A chave deste registro é: NR_LICITACAO, ANO_LICITACAO e CD_TIPO_MODALIDADE\n",
    "lic_merenda_rs = lic_merenda_rs[['CNPJ_ORGAO_GERENCIADOR', 'NM_ORGAO_GERENCIADOR', 'NR_LICITACAO', 'ANO_LICITACAO' , 'CD_TIPO_MODALIDADE', 'CD_ORGAO', 'NM_ORGAO', 'TP_CARACTERISTICA_OBJETO', 'TP_NATUREZA', 'DS_OBJETO', 'VL_LICITACAO', 'VL_HOMOLOGADO', 'PC_TX_ESTIMADA', 'PC_TX_HOMOLOGADA', 'CD_TIPO_FASE_ATUAL']]\n",
    "\n",
    "# Algumas das colunas estão como interger e eu quero como string (object):\n",
    "lic_merenda_rs[['CNPJ_ORGAO_GERENCIADOR', 'NR_LICITACAO', 'ANO_LICITACAO']] = lic_merenda_rs[['CNPJ_ORGAO_GERENCIADOR', 'NR_LICITACAO', 'ANO_LICITACAO']].astype(str)\n",
    "\n",
    "lic_merenda_rs.info()"
   ]
  },
  {
   "cell_type": "code",
   "execution_count": 44,
   "metadata": {},
   "outputs": [
    {
     "name": "stderr",
     "output_type": "stream",
     "text": [
      "c:\\users\\coliv\\appdata\\local\\programs\\python\\python37\\lib\\site-packages\\IPython\\core\\interactiveshell.py:3049: DtypeWarning: Columns (6) have mixed types. Specify dtype option on import or set low_memory=False.\n",
      "  interactivity=interactivity, compiler=compiler, result=result)\n",
      "c:\\users\\coliv\\appdata\\local\\programs\\python\\python37\\lib\\site-packages\\IPython\\core\\interactiveshell.py:3049: DtypeWarning: Columns (7) have mixed types. Specify dtype option on import or set low_memory=False.\n",
      "  interactivity=interactivity, compiler=compiler, result=result)\n"
     ]
    }
   ],
   "source": [
    "# 1.b informações sobre quem concorreu\n",
    "\n",
    "# Abrindo arquivos de concorrentes , com as infos das empresas\n",
    "concorrentes_2017 = pd.read_csv(r'C:\\Users\\coliv\\licitacoes_merenda_rs\\dbs\\2017_licitacoes\\licitante.csv', delimiter =',', encoding='utf8')\n",
    "concorrentes_2018 = pd.read_csv(r'C:\\Users\\coliv\\licitacoes_merenda_rs\\dbs\\2018_licitacoes\\licitante.csv', delimiter =',', encoding='utf8')\n",
    "concorrentes_2019 = pd.read_csv(r'C:\\Users\\coliv\\licitacoes_merenda_rs\\dbs\\2019_licitacoes\\licitante.csv', delimiter =',', encoding='utf8')\n",
    "\n",
    "#Juntando todos os concorrentes de todos os anos:\n",
    "concorrentes_rs = pd.concat([concorrentes_2017, concorrentes_2018, concorrentes_2019])\n",
    "\n",
    "#Dropando colunas que não me ajudam (do representante da empresa)\n",
    "concorrentes_rs = concorrentes_rs.drop(['TP_DOCUMENTO.1', 'NR_DOCUMENTO.1', 'TP_CONDICAO'], axis = 1)\n",
    "\n",
    "concorrentes_rs[['CD_ORGAO', 'NR_LICITACAO', 'ANO_LICITACAO']]= concorrentes_rs[['CD_ORGAO', 'NR_LICITACAO', 'ANO_LICITACAO']].astype(str)"
   ]
  },
  {
   "cell_type": "code",
   "execution_count": 66,
   "metadata": {},
   "outputs": [],
   "source": [
    "#1.c informações sobre as ofertas\n",
    "\n",
    "# Abrindo os arquivos de lotes (onde eu consigo ver quem vanhou a licitação)\n",
    "lote_2017 = pd.read_csv(r'C:\\Users\\coliv\\licitacoes_merenda_rs\\dbs\\2017_licitacoes\\lote.csv', delimiter =',', encoding='utf8')\n",
    "lote_2018 = pd.read_csv(r'C:\\Users\\coliv\\licitacoes_merenda_rs\\dbs\\2018_licitacoes\\lote.csv', delimiter =',', encoding='utf8')\n",
    "lote_2019 = pd.read_csv(r'C:\\Users\\coliv\\licitacoes_merenda_rs\\dbs\\2019_licitacoes\\lote.csv', delimiter =',', encoding='utf8')\n",
    "\n",
    "lote_2017[['CD_ORGAO', 'NR_LICITACAO', 'ANO_LICITACAO']] = lote_2017[['CD_ORGAO', 'NR_LICITACAO', 'ANO_LICITACAO']].astype(str)\n",
    "lote_2018[['CD_ORGAO', 'NR_LICITACAO', 'ANO_LICITACAO']] = lote_2018[['CD_ORGAO', 'NR_LICITACAO', 'ANO_LICITACAO']].astype(str)\n",
    "lote_2019[['CD_ORGAO', 'NR_LICITACAO', 'ANO_LICITACAO']] = lote_2019[['CD_ORGAO', 'NR_LICITACAO', 'ANO_LICITACAO']].astype(str)\n",
    "\n",
    "lotes = pd.concat([lote_2017, lote_2018, lote_2019])\n",
    "\n",
    "#mudando uma coluna só\n",
    "\n",
    "lotes.NR_LOTE = lotes.NR_LOTE.astype(str)\n",
    "# A chave deste registro é: NR_LICITACAO, ANO_LICITACAO, CD_TIPO_MODALIDADE e NR_LOTE"
   ]
  },
  {
   "cell_type": "code",
   "execution_count": 67,
   "metadata": {},
   "outputs": [],
   "source": [
    "#Juntando licitações e lotes\n",
    "\n",
    "licitacoes_lotes = pd.merge(lic_merenda_rs, lotes, how = \"left\", on = ['NR_LICITACAO', 'ANO_LICITACAO', 'CD_TIPO_MODALIDADE'])"
   ]
  },
  {
   "cell_type": "code",
   "execution_count": 84,
   "metadata": {},
   "outputs": [
    {
     "data": {
      "text/plain": [
       "CNPJ_ORGAO_GERENCIADOR\n",
       "1601857000120.0         25\n",
       "87246120000151.0        58\n",
       "87613154000137.0        71\n",
       "88372883000101.0        84\n",
       "88546890000182.0       106\n",
       "94309291000148.0        53\n",
       "nan                 167607\n",
       "Name: CNPJ_ORGAO_GERENCIADOR, dtype: int64"
      ]
     },
     "execution_count": 84,
     "metadata": {},
     "output_type": "execute_result"
    }
   ],
   "source": [
    "# Selecionando apenas os vencedores\n",
    "#lotes = lotes[lotes.TP_RESULTADO_LOTE == 'A']\n",
    "\n",
    "licitacoes_lotes.groupby(by=['CNPJ_ORGAO_GERENCIADOR'])['CNPJ_ORGAO_GERENCIADOR'].count()\n"
   ]
  },
  {
   "cell_type": "code",
   "execution_count": 96,
   "metadata": {},
   "outputs": [
    {
     "name": "stdout",
     "output_type": "stream",
     "text": [
      "                                                                      count\n",
      "CNPJ_ORGAO_GERENCIADOR ANO_LICITACAO NR_LICITACAO CD_TIPO_MODALIDADE       \n",
      "1601857000120.0        2018          13.0         CPP                    25\n",
      "87246120000151.0       2019          33.0         CPP                    58\n",
      "87613154000137.0       2018          6.0          CPP                    36\n",
      "                       2019          3.0          CPP                    35\n",
      "88372883000101.0       2019          5.0          CPP                    84\n",
      "88546890000182.0       2018          106.0        CPP                    22\n",
      "                       2019          5.0          CPP                    84\n",
      "94309291000148.0       2018          16.0         CPP                     7\n",
      "                                     17.0         CPP                     6\n",
      "                                     18.0         CPP                    40\n",
      "nan                    2017          1.0          CPP                  2385\n",
      "                                     10.0         CPP                     6\n",
      "...                                                                     ...\n",
      "                       2019          27.0         CPP                     1\n",
      "                                     28.0         CPP                     1\n",
      "                                     3.0          CPP                   175\n",
      "                                     35.0         CPP                     2\n",
      "                                     36.0         CPP                     1\n",
      "                                     4.0          CPP                     3\n",
      "                                     5.0          CPP                    84\n",
      "                                     56.0         CPP                     1\n",
      "                                     6.0          CPP                     4\n",
      "                                     75.0         CPP                     1\n",
      "                                     8.0          CPP                     4\n",
      "                                     9.0          CPP                     4\n",
      "\n",
      "[117 rows x 1 columns]\n"
     ]
    }
   ],
   "source": [
    "\n",
    "# print(licitacoes_lotes.groupby(by=['NR_LICITACAO', 'ANO_LICITACAO' , 'CD_TIPO_MODALIDADE']).count().sum())\n",
    "\n",
    "print(licitacoes_lotes.groupby(['CNPJ_ORGAO_GERENCIADOR','ANO_LICITACAO' , 'NR_LICITACAO', 'CD_TIPO_MODALIDADE'])['NR_LOTE'].agg(['count']))"
   ]
  }
 ],
 "metadata": {
  "celltoolbar": "Slideshow",
  "kernelspec": {
   "display_name": "Python 3",
   "language": "python",
   "name": "python3"
  },
  "language_info": {
   "codemirror_mode": {
    "name": "ipython",
    "version": 3
   },
   "file_extension": ".py",
   "mimetype": "text/x-python",
   "name": "python",
   "nbconvert_exporter": "python",
   "pygments_lexer": "ipython3",
   "version": "3.7.3"
  }
 },
 "nbformat": 4,
 "nbformat_minor": 2
}
